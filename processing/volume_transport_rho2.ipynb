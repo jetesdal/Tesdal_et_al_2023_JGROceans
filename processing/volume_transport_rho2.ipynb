{
 "cells": [
  {
   "cell_type": "markdown",
   "metadata": {},
   "source": [
    "# Computing Meridional Overturning"
   ]
  },
  {
   "cell_type": "code",
   "execution_count": 1,
   "metadata": {},
   "outputs": [],
   "source": [
    "# Don't display filter warnings\n",
    "import warnings\n",
    "warnings.filterwarnings('ignore')"
   ]
  },
  {
   "cell_type": "code",
   "execution_count": 2,
   "metadata": {},
   "outputs": [],
   "source": [
    "import numpy as np\n",
    "import xarray as xr\n",
    "import pandas as pd\n",
    "import os\n",
    "from dask.diagnostics import ProgressBar\n",
    "import matplotlib.pyplot as plt\n",
    "%matplotlib inline"
   ]
  },
  {
   "cell_type": "code",
   "execution_count": 3,
   "metadata": {},
   "outputs": [],
   "source": [
    "mod = 'ESM4' # CM4, ESM4\n",
    "exp = 'control' # control, antwater, stress, antwaterstress\n",
    "mem = 251 # 251, 290, 332 (CM4) / 101, 151, 201 (ESM4)\n",
    "\n",
    "rho0 = 1035.0\n",
    "north = -30"
   ]
  },
  {
   "cell_type": "code",
   "execution_count": 4,
   "metadata": {},
   "outputs": [
    {
     "name": "stdout",
     "output_type": "stream",
     "text": [
      "/scratch/gpfs/jt7058/GFDL/fafmip/raw/ESM4_piControl_D/ocean_annual_rho2\n"
     ]
    }
   ],
   "source": [
    "outdir='/scratch/gpfs/jt7058/GFDL/fafmip/netcdf/'\n",
    "rootdir = '/scratch/gpfs/jt7058/GFDL/fafmip/raw/'\n",
    "if mod=='CM4':\n",
    "    subdir = 'CM4_piControl_C'\n",
    "elif mod=='ESM4':\n",
    "    subdir = 'ESM4_piControl_D'\n",
    "\n",
    "pp = 'ocean_annual_rho2'\n",
    "fafdir = '%s_faf%s_%s'%(subdir,exp,str(mem) if mod=='CM4' else str(mem))\n",
    "full_path = os.path.join(rootdir,subdir,pp) if exp=='control' else os.path.join(rootdir,fafdir,pp)\n",
    "print(full_path)"
   ]
  },
  {
   "cell_type": "code",
   "execution_count": 5,
   "metadata": {},
   "outputs": [],
   "source": [
    "ds = xr.open_mfdataset(full_path+'/'+pp+'.*.*.nc',use_cftime=True, \n",
    "                       drop_variables=['average_DT','average_T1','average_T2'])"
   ]
  },
  {
   "cell_type": "code",
   "execution_count": 6,
   "metadata": {},
   "outputs": [
    {
     "name": "stdout",
     "output_type": "stream",
     "text": [
      "Frozen({'time': 200, 'nv': 2, 'rho2_i': 36, 'rho2_l': 35, 'yq': 576, 'xh': 720, 'yh': 576})\n"
     ]
    }
   ],
   "source": [
    "print(ds.dims)"
   ]
  },
  {
   "cell_type": "code",
   "execution_count": 7,
   "metadata": {},
   "outputs": [],
   "source": [
    "pp = 'ocean_monthly'\n",
    "\n",
    "if subdir[:3] == 'CM4':\n",
    "    grid = xr.open_dataset(rootdir+'CM4_piControl_C/'+pp+'/'+pp+'.static.nc')\n",
    "elif subdir[:3] == 'ESM':\n",
    "    grid = xr.open_dataset(rootdir+'ESM4_piControl_D/'+pp+'/'+pp+'.static.nc')\n",
    "else:\n",
    "    print('grid is not available for '+subdir)"
   ]
  },
  {
   "cell_type": "code",
   "execution_count": 8,
   "metadata": {},
   "outputs": [
    {
     "name": "stdout",
     "output_type": "stream",
     "text": [
      "0101-07-02 to 0300-07-02\n",
      "0121-07-02 to 0220-07-02\n"
     ]
    }
   ],
   "source": [
    "print(str(ds.time.values[0])[:10],'to',str(ds.time.values[-1])[:10])\n",
    "# Control run is 100-year average\n",
    "if exp=='control':\n",
    "    # Years 281-380 for the CM4 control\n",
    "    if mod=='CM4':\n",
    "        ds = ds.sel(time=slice('0281','0380'))\n",
    "        \n",
    "    # Years 121-220 for the ESM4 control run\n",
    "    elif mod=='ESM4':\n",
    "        ds = ds.sel(time=slice('0121','0220'))\n",
    "\n",
    "# Pertubation experiments are averaged over a 20 year period\n",
    "else:\n",
    "    # Years 51 to 70 for the CM4 pertubation experiments\n",
    "    if mod=='CM4':\n",
    "        ds = ds.sel(time=slice('0051','0070'))\n",
    "        \n",
    "    # Years 151-170 for the ESM4 pertubation experiment #101\n",
    "    elif(mod=='ESM4') & (mem==101):\n",
    "        ds = ds.sel(time=slice('0151','0170'))\n",
    "    \n",
    "    # Years 51 to 70 for the ESM4 pertubation experiment (other than 101)\n",
    "    else:\n",
    "        ds = ds.sel(time=slice('0051','0070'))\n",
    "        \n",
    "print(str(ds.time.values[0])[:10],'to',str(ds.time.values[-1])[:10])"
   ]
  },
  {
   "cell_type": "markdown",
   "metadata": {},
   "source": [
    "### Seperate by basin"
   ]
  },
  {
   "cell_type": "code",
   "execution_count": 9,
   "metadata": {},
   "outputs": [],
   "source": [
    "from cmip_basins import generate_basin_codes"
   ]
  },
  {
   "cell_type": "code",
   "execution_count": 10,
   "metadata": {},
   "outputs": [],
   "source": [
    "basincodes = generate_basin_codes(grid, lon='geolon_v', lat='geolat_v', mask='wet_v')"
   ]
  },
  {
   "cell_type": "code",
   "execution_count": 11,
   "metadata": {},
   "outputs": [
    {
     "data": {
      "text/plain": [
       "<matplotlib.collections.QuadMesh at 0x1523a3643b20>"
      ]
     },
     "execution_count": 11,
     "metadata": {},
     "output_type": "execute_result"
    },
    {
     "data": {
      "image/png": "[encoded data removed]",
      "text/plain": [
       "<Figure size 432x288 with 2 Axes>"
      ]
     },
     "metadata": {
      "needs_background": "light"
     },
     "output_type": "display_data"
    }
   ],
   "source": [
    "basincodes.where(grid['wet_v']==1).where(grid.geolat_v<north,drop=True)\\\n",
    "    .plot(cmap='tab10',vmin=0.5,vmax=10.5,cbar_kwargs={'ticks': np.arange(1,12,1)})"
   ]
  },
  {
   "cell_type": "code",
   "execution_count": 12,
   "metadata": {},
   "outputs": [],
   "source": [
    "das = []\n",
    "\n",
    "for idx in [2,3,5]:\n",
    "    vmo = ds.vmo.where(basincodes==idx).where(grid['wet_v']==1)\\\n",
    "                .where(grid.geolat_v<north,drop=True).isel(yq=-1)   # ...drop=True).ffill('yq')... Why?\n",
    "    vtrnsp = vmo.sum(dim='xh') / rho0 / 1.0e6\n",
    "    das.append(vtrnsp)\n",
    "    \n",
    "da = xr.concat(das,pd.Index(['Atlantic', 'Pacific','Indian'], name='basin'))       "
   ]
  },
  {
   "cell_type": "code",
   "execution_count": 14,
   "metadata": {},
   "outputs": [],
   "source": [
    "ddict_basin = {b:{} for b in ['Atlantic','Pacific','Indian']}\n",
    "ddict_basin['Atlantic']['water_mass'] = ['Upper','SAMW','AAIW','NADW','AABW']\n",
    "ddict_basin['Pacific']['water_mass'] = ['Upper','SAMW','AAIW','CDW','AABW']\n",
    "ddict_basin['Indian']['water_mass'] = ['Upper','SAMW','AAIW','CDW','AABW']\n",
    "\n",
    "ddict_basin['Atlantic']['sig2'] = [35.2,35.4,36.55,37.08]\n",
    "ddict_basin['Pacific']['sig2'] = [35.3, 35.65, 36.45, 37.01]\n",
    "ddict_basin['Indian']['sig2'] = [35.2, 35.7, 36.6, 37.01]"
   ]
  },
  {
   "cell_type": "code",
   "execution_count": 15,
   "metadata": {},
   "outputs": [
    {
     "name": "stdout",
     "output_type": "stream",
     "text": [
      "\n",
      " 0 Atlantic\n",
      "0 Upper\n",
      "Sum above 35.2\n",
      "1 SAMW\n",
      "Sum between 35.2 and 35.4\n",
      "2 AAIW\n",
      "Sum between 35.4 and 36.55\n",
      "3 NADW\n",
      "Sum between 36.55 and 37.08\n",
      "4 AABW\n",
      "Sum below 37.08\n",
      "\n",
      " 1 Pacific\n",
      "0 Upper\n",
      "Sum above 35.3\n",
      "1 SAMW\n",
      "Sum between 35.3 and 35.65\n",
      "2 AAIW\n",
      "Sum between 35.65 and 36.45\n",
      "3 CDW\n",
      "Sum between 36.45 and 37.01\n",
      "4 AABW\n",
      "Sum below 37.01\n",
      "\n",
      " 2 Indian\n",
      "0 Upper\n",
      "Sum above 35.2\n",
      "1 SAMW\n",
      "Sum between 35.2 and 35.7\n",
      "2 AAIW\n",
      "Sum between 35.7 and 36.6\n",
      "3 CDW\n",
      "Sum between 36.6 and 37.01\n",
      "4 AABW\n",
      "Sum below 37.01\n"
     ]
    }
   ],
   "source": [
    "das = []\n",
    "for idx, bname in enumerate(da.basin.values):\n",
    "    print('\\n',idx,bname)\n",
    "    \n",
    "    vtrsp = []\n",
    "    for widx, wm in enumerate(ddict_basin[bname]['water_mass']):\n",
    "        print(widx,wm)\n",
    "        \n",
    "        if widx ==0:\n",
    "            print('Sum above',ddict_basin[bname]['sig2'][widx])\n",
    "            vtrsp.append(da.sel(basin=bname)[:,da.rho2_l<ddict_basin[bname]['sig2'][widx]+1000].sum(dim='rho2_l'))\n",
    "            \n",
    "        elif widx < (len(ddict_basin[bname]['water_mass'])-1):\n",
    "            print('Sum between',ddict_basin[bname]['sig2'][widx-1],'and',ddict_basin[bname]['sig2'][widx])\n",
    "            vtrsp.append(da.sel(basin=bname)[:,(da.rho2_l>=ddict_basin[bname]['sig2'][widx-1]+1000)\\\n",
    "                                                &(da.rho2_l<ddict_basin[bname]['sig2'][widx]+1000)].sum(dim='rho2_l'))\n",
    "            \n",
    "        else:\n",
    "            print('Sum below',ddict_basin[bname]['sig2'][widx-1])\n",
    "            vtrsp.append(da.sel(basin=bname)[:,da.rho2_l>=ddict_basin[bname]['sig2'][widx-1]+1000].sum(dim='rho2_l'))\n",
    "            \n",
    "    das.append(xr.concat(vtrsp,pd.Index(['Upper','SAMW','AAIW','CDW','AABW'], name='water_mass')))"
   ]
  },
  {
   "cell_type": "code",
   "execution_count": 16,
   "metadata": {},
   "outputs": [],
   "source": [
    "vol_trsp = xr.concat(das,pd.Index(['Atlantic', 'Pacific','Indian'], name='basin')).reset_coords(drop=True)"
   ]
  },
  {
   "cell_type": "code",
   "execution_count": 17,
   "metadata": {},
   "outputs": [
    {
     "name": "stdout",
     "output_type": "stream",
     "text": [
      "[########################################] | 100% Completed | 16.7s\n",
      "[########################################] | 100% Completed | 15.3s\n",
      "[########################################] | 100% Completed | 14.2s\n"
     ]
    }
   ],
   "source": [
    "with ProgressBar():\n",
    "    vtrsp_NADW = vol_trsp.sel(water_mass='CDW',basin='Atlantic').load()\n",
    "    vtrsp_CDWPac = vol_trsp.sel(water_mass='CDW',basin='Pacific').load()\n",
    "    vtrsp_CDWInd = vol_trsp.sel(water_mass='CDW',basin='Indian').load()"
   ]
  },
  {
   "cell_type": "code",
   "execution_count": 18,
   "metadata": {},
   "outputs": [
    {
     "name": "stdout",
     "output_type": "stream",
     "text": [
      "NADW:\n",
      " -18.8 $\\pm$ 0.8\n"
     ]
    }
   ],
   "source": [
    "print('NADW:\\n',str(np.round(vtrsp_NADW.mean('time').values,1))+' $\\pm$ '+\\\n",
    "                str(np.round(vtrsp_NADW.std('time').values,1)))"
   ]
  },
  {
   "cell_type": "code",
   "execution_count": 19,
   "metadata": {},
   "outputs": [
    {
     "name": "stdout",
     "output_type": "stream",
     "text": [
      "CDW (Indo-Pacific):\n",
      " -1.5 $\\pm$ 2.1\n"
     ]
    }
   ],
   "source": [
    "print('CDW (Indo-Pacific):\\n',str(np.round((vtrsp_CDWPac+vtrsp_CDWInd).mean('time').values,1))+' $\\pm$ '+\\\n",
    "                              str(np.round((vtrsp_CDWPac+vtrsp_CDWInd).std('time').values,1)))"
   ]
  },
  {
   "cell_type": "code",
   "execution_count": 20,
   "metadata": {},
   "outputs": [
    {
     "name": "stdout",
     "output_type": "stream",
     "text": [
      "Total CDW:\n",
      " -20.3 $\\pm$ 2.3\n"
     ]
    }
   ],
   "source": [
    "print('Total CDW:\\n',str(np.round((vtrsp_NADW+vtrsp_CDWPac+vtrsp_CDWInd).mean('time').values,1))+' $\\pm$ '+\\\n",
    "                     str(np.round((vtrsp_NADW+vtrsp_CDWPac+vtrsp_CDWInd).std('time').values,1)))"
   ]
  },
  {
   "cell_type": "markdown",
   "metadata": {},
   "source": [
    "### Mean transports"
   ]
  },
  {
   "cell_type": "code",
   "execution_count": 12,
   "metadata": {},
   "outputs": [],
   "source": [
    "df = pd.DataFrame()\n",
    "\n",
    "for idx in [2,3,5]:\n",
    "    vmo = ds.vmo.where(basincodes==idx).where(grid['wet_v']==1)\\\n",
    "                .where(grid.geolat_v<north,drop=True).isel(yq=-1)   # ...drop=True).ffill('yq')... Why?\n",
    "    vtrnsp = vmo.sum(dim='xh') / rho0 / 1.0e6\n",
    "    vtrnsp_mean = vtrnsp.mean('time')\n",
    "    df = pd.concat([df,vtrnsp_mean.reset_coords(drop=True).to_dataframe(str(idx))],sort=True,axis=1)\n",
    "    \n",
    "df.columns = ['Atlantic', 'Pacific','Indian']"
   ]
  },
  {
   "cell_type": "code",
   "execution_count": 13,
   "metadata": {},
   "outputs": [],
   "source": [
    "head = '%s_%s'%(mod,exp) if exp=='control' else '%s_%s_%s'%(mod,exp,str(mem))"
   ]
  },
  {
   "cell_type": "code",
   "execution_count": 14,
   "metadata": {},
   "outputs": [
    {
     "name": "stdout",
     "output_type": "stream",
     "text": [
      "Saving to file: CM4_antwater_251_so_0051to0070_at30S_mvt_rho2_basins.csv\n"
     ]
    }
   ],
   "source": [
    "fname = head+'_so_%sto%s_at%sS_mvt_rho2_basins.csv'\\\n",
    "        %(str(ds.time.dt.year[0].values).rjust(4, '0'),\n",
    "          str(ds.time.dt.year[-1].values).rjust(4, '0'),\n",
    "          str(abs(north)).replace('.',''))\n",
    "print('Saving to file:', fname)\n",
    "\n",
    "# Save with index column (time)\n",
    "df.to_csv(outdir+fname, index=True)"
   ]
  },
  {
   "cell_type": "code",
   "execution_count": 15,
   "metadata": {},
   "outputs": [],
   "source": [
    "df = pd.read_csv(outdir+'ESM4_control_so_0121to0220_at30S_mvt_rho2_basins.csv',index_col='rho2_l')"
   ]
  },
  {
   "cell_type": "code",
   "execution_count": 16,
   "metadata": {},
   "outputs": [],
   "source": [
    "ddict_basin = {b:{} for b in ['Atlantic','Pacific','Indian']}\n",
    "ddict_basin['Atlantic']['water_mass'] = ['Upper','SAMW','AAIW','NADW','AABW']\n",
    "ddict_basin['Pacific']['water_mass'] = ['Upper','SAMW','AAIW','CDW','AABW']\n",
    "ddict_basin['Indian']['water_mass'] = ['Upper','SAMW','AAIW','CDW','AABW']\n",
    "\n",
    "ddict_basin['Atlantic']['sig2'] = [35.2,35.4, 36.55, 37.08]\n",
    "ddict_basin['Pacific']['sig2'] = [35.3, 35.65, 36.45, 37.01]\n",
    "ddict_basin['Indian']['sig2'] = [35.2, 35.7, 36.6, 37.01]"
   ]
  },
  {
   "cell_type": "code",
   "execution_count": 17,
   "metadata": {},
   "outputs": [
    {
     "data": {
      "image/png": "[encoded data removed]",
      "text/plain": [
       "<Figure size 360x504 with 1 Axes>"
      ]
     },
     "metadata": {
      "needs_background": "light"
     },
     "output_type": "display_data"
    }
   ],
   "source": [
    "fig, ax = plt.subplots(figsize=(5,7))\n",
    "ax.axvline(x=0, c = 'k', ls='-', lw=1)\n",
    "ax.plot(df['Atlantic'],df.index,lw=3,marker='o',ms=4,label='Atlantic')\n",
    "ax.plot(df['Pacific'],df.index,lw=2,marker='s',ms=4,label='Pacific')\n",
    "ax.plot(df['Indian'],df.index,lw=1,marker='d',ms=4,label='Indian')\n",
    "ax.set_ylim([1034,1037.5])\n",
    "#ax.set_xlim([-2,2])\n",
    "ax.invert_yaxis()\n",
    "ax.legend(loc='upper left',fontsize=12)\n",
    "ax.set_title('%s (%s)'%(mod,exp) if exp=='control' else '%s (%s-%s)'%(mod,exp,str(mem)),fontsize=14)\n",
    "\n",
    "cidx = ['tab:blue','tab:orange','tab:green']\n",
    "for idx, name in enumerate(ddict_basin):\n",
    "    for sidx, sig in enumerate(ddict_basin[name]['sig2']):\n",
    "        ax.axhline(y=sig+1000, c = cidx[idx], ls='--', lw=1)\n",
    "\n",
    "plt.show()"
   ]
  },
  {
   "cell_type": "code",
   "execution_count": 23,
   "metadata": {},
   "outputs": [],
   "source": [
    "ddict_basin = {b:{} for b in ['Atlantic','Pacific','Indian']}\n",
    "ddict_basin['Atlantic']['water_mass'] = ['Upper','SAMW','AAIW','NADW','AABW']\n",
    "ddict_basin['Pacific']['water_mass'] = ['Upper','SAMW','AAIW','CDW','AABW']\n",
    "ddict_basin['Indian']['water_mass'] = ['Upper','SAMW','AAIW','CDW','AABW']"
   ]
  },
  {
   "cell_type": "raw",
   "metadata": {},
   "source": [
    "# CM4 (control)\n",
    "ddict_basin['Atlantic']['sig2'] = [35.3,35.9,36.55,37.08]\n",
    "ddict_basin['Pacific']['sig2'] = [35.8, 36.2, 36.6, 37.05]\n",
    "ddict_basin['Indian']['sig2'] = [35.7, 36.2, 36.6, 37.065]"
   ]
  },
  {
   "cell_type": "raw",
   "metadata": {},
   "source": [
    "# CM4 (antwater)\n",
    "ddict_basin['Atlantic']['sig2'] = [35.5,36.55,37.08]\n",
    "ddict_basin['Pacific']['sig2'] = [35.9,36.55,37.05]\n",
    "ddict_basin['Indian']['sig2'] = [35.2,35.95,36.6,37.09]"
   ]
  },
  {
   "cell_type": "code",
   "execution_count": 19,
   "metadata": {},
   "outputs": [],
   "source": [
    "# ESM4 (control)\n",
    "ddict_basin['Atlantic']['sig2'] = [35.2,35.4,36.55,37.08]\n",
    "ddict_basin['Pacific']['sig2'] = [35.3, 35.65, 36.45, 37.01]\n",
    "ddict_basin['Indian']['sig2'] = [35.2, 35.7, 36.6, 37.01]\n",
    "\n",
    "ddict['CM4']['water_mass'] = ['Upper Ocean','SAMW','AAIW','CDW','AABW']\n",
    "ddict['CM4']['sig2'] = [35.6, 36.1, 36.6, 37.06]\n",
    "ddict['ESM4']['water_mass'] = ['Upper Ocean','SAMW','AAIW','CDW','AABW']\n",
    "ddict['ESM4']['sig2'] = [35.2, 35.6, 36.5, 37.03]"
   ]
  },
  {
   "cell_type": "code",
   "execution_count": 24,
   "metadata": {},
   "outputs": [],
   "source": [
    "ddict_basin['Atlantic']['sig2'] = [35.2, 35.6, 36.5, 37.03]\n",
    "ddict_basin['Pacific']['sig2'] = [35.2, 35.6, 36.5, 37.03]\n",
    "ddict_basin['Indian']['sig2'] = [35.2, 35.6, 36.5, 37.03]"
   ]
  },
  {
   "cell_type": "raw",
   "metadata": {},
   "source": [
    "# ESM4 (antwater)\n",
    "ddict_basin['Atlantic']['sig2'] = [35.3,36.55,37.08]\n",
    "ddict_basin['Pacific']['sig2'] = [35.6,36.45,36.8]\n",
    "ddict_basin['Indian']['sig2'] = [35.0,35.7,36.6,37.01]"
   ]
  },
  {
   "cell_type": "raw",
   "metadata": {},
   "source": [
    "# CM4 (stress)\n",
    "ddict_basin['Atlantic']['sig2'] = [35.5,36.55,37.08]\n",
    "ddict_basin['Pacific']['sig2'] = [35.9,36.6,37.05]\n",
    "ddict_basin['Indian']['sig2'] = [35.2,35.95,36.6,37.065]"
   ]
  },
  {
   "cell_type": "raw",
   "metadata": {},
   "source": [
    "# ESM4 (stress)\n",
    "ddict_basin['Atlantic']['sig2'] = [35.3,36.45,37.08]\n",
    "ddict_basin['Pacific']['sig2'] = [35.6,36.45,37.01]\n",
    "ddict_basin['Indian']['sig2'] = [35.0,35.7,36.6,37.01]"
   ]
  },
  {
   "cell_type": "raw",
   "metadata": {},
   "source": [
    "# CM4 (antwater-stress)\n",
    "ddict_basin['Atlantic']['sig2'] = [35.5,36.55,37.1]\n",
    "ddict_basin['Pacific']['sig2'] = [35.9,36.6,37.065]\n",
    "ddict_basin['Indian']['sig2'] = [35.2,35.9,36.6,37.09]"
   ]
  },
  {
   "cell_type": "raw",
   "metadata": {},
   "source": [
    "# ESM4 (antwater-stress)\n",
    "ddict_basin['Atlantic']['sig2'] = [35.4,36.55,37.09]\n",
    "ddict_basin['Pacific']['sig2'] = [35.65,36.53,37.01]\n",
    "ddict_basin['Indian']['sig2'] = [35.0,35.7,36.6,37.01]"
   ]
  },
  {
   "cell_type": "code",
   "execution_count": 25,
   "metadata": {},
   "outputs": [
    {
     "name": "stdout",
     "output_type": "stream",
     "text": [
      "Sum above 35.2\n",
      "Sum between 35.2 and 35.6\n",
      "Sum between 35.6 and 36.5\n",
      "Sum between 36.5 and 37.03\n",
      "Sum below 37.03\n",
      "Sum above 35.2\n",
      "Sum between 35.2 and 35.6\n",
      "Sum between 35.6 and 36.5\n",
      "Sum between 36.5 and 37.03\n",
      "Sum below 37.03\n",
      "Sum above 35.2\n",
      "Sum between 35.2 and 35.6\n",
      "Sum between 35.6 and 36.5\n",
      "Sum between 36.5 and 37.03\n",
      "Sum below 37.03\n"
     ]
    }
   ],
   "source": [
    "for idx, (name, values) in enumerate(df.iteritems()):\n",
    "    #print('\\n',idx,name)\n",
    "    \n",
    "    vtrsp = []\n",
    "    for widx, wm in enumerate(ddict_basin[name]['water_mass']):\n",
    "        #print(widx,wm)\n",
    "        \n",
    "        if widx ==0:\n",
    "            print('Sum above',ddict_basin[name]['sig2'][widx])\n",
    "            vtrsp.append(df[df.index<ddict_basin[name]['sig2'][widx]+1000][name].sum())\n",
    "        \n",
    "        elif widx < (len(ddict_basin[name]['water_mass'])-1):\n",
    "            print('Sum between',ddict_basin[name]['sig2'][widx-1],'and',\n",
    "                  ddict_basin[name]['sig2'][widx])\n",
    "            vtrsp.append(df[(df.index>=ddict_basin[name]['sig2'][widx-1]+1000)\\\n",
    "                       &(df.index<ddict_basin[name]['sig2'][widx]+1000)][name].sum())\n",
    "            \n",
    "        else:\n",
    "            print('Sum below',ddict_basin[name]['sig2'][widx-1])\n",
    "            vtrsp.append(df[df.index>=ddict_basin[name]['sig2'][widx-1]+1000][name].sum())\n",
    "            \n",
    "        #print(vtrsp)\n",
    "    ddict_basin[name]['vol_trsp'] = vtrsp"
   ]
  },
  {
   "cell_type": "code",
   "execution_count": 26,
   "metadata": {},
   "outputs": [
    {
     "data": {
      "image/png": "[encoded data removed]",
      "text/plain": [
       "<Figure size 1008x432 with 3 Axes>"
      ]
     },
     "metadata": {
      "needs_background": "light"
     },
     "output_type": "display_data"
    }
   ],
   "source": [
    "fig, axs = plt.subplots(1, 3, figsize=(14,6))\n",
    "fig.subplots_adjust(left=0.1, right=0.9, bottom=0.1, top=0.9, wspace=0.2)\n",
    "fig.suptitle('%s (%s)'%(mod,exp) if exp=='control' else '%s (%s-%s)'%(mod,exp,str(mem)),\n",
    "             fontsize=16, fontweight='bold', y=0.99)\n",
    "\n",
    "\n",
    "for idx, name in enumerate(ddict_basin):\n",
    "    \n",
    "    y = np.arange(len(ddict_basin[name]['water_mass'])) + 0.5\n",
    "    x = ddict_basin[name]['vol_trsp']\n",
    "    \n",
    "    yloc = y\n",
    "    \n",
    "    axs[idx].axvline(x=0, c = 'k', ls='-', lw=1)\n",
    "    p = axs[idx].barh(yloc,x,height=0.4 ,align='center',color='tab:blue')\n",
    "    \n",
    "    for i, bar in enumerate(p):\n",
    "        val = bar.get_width()\n",
    "        axs[idx].text(bar.get_width(), bar.get_y() + bar.get_height() / 2.0 , \n",
    "                      f'{val:.1f}', ha='right' if val<0 else 'left', va='center',color='k',fontsize=12)\n",
    "    \n",
    "    # Add subtitles and adjust xlimit\n",
    "    if name=='Atlantic':\n",
    "        axs[idx].set_title('Atlantic',fontsize=16)\n",
    "        axs[idx].set_xlim([-28,16])\n",
    "    elif name=='Pacific':\n",
    "        axs[idx].set_title('Pacific',fontsize=16)\n",
    "        axs[idx].set_xlim([-5,15])\n",
    "    elif name=='Indian':\n",
    "        axs[idx].set_title('Indian',fontsize=16)\n",
    "        axs[idx].set_xlim([-39,6])\n",
    "    \n",
    "    # Add water mass names\n",
    "    xlimit = axs[idx].get_xlim()\n",
    "    for i, yline in enumerate(y[1:]-0.5):\n",
    "        axs[idx].text(xlimit[0]+abs(xlimit[1]+xlimit[0])/100, yline+0.02, ddict_basin[name]['water_mass'][i+1], \n",
    "                      fontsize=14, fontweight='bold',ha='left', va='top')\n",
    "        \n",
    "    axs[idx].grid(True, 'major', 'y', ls='-', lw=1, c='k', alpha=.3)\n",
    "    axs[idx].tick_params(axis='both', which='both', labelsize=14,\n",
    "                         bottom=True, top=False, labelbottom=True,\n",
    "                         left=False, right=False, labelleft=True)\n",
    "    \n",
    "\n",
    "\n",
    "    axs[idx].set_yticks(y[1:]-0.5)\n",
    "    axs[idx].set_yticklabels([f'{val:.1f}' for val in ddict_basin[name]['sig2']])\n",
    "    axs[idx].tick_params(axis='y', which='major', pad=0)\n",
    "    \n",
    "    axs[idx].invert_yaxis()\n",
    "    axs[idx].set_xlabel('Volume transport (Sv)',fontsize=15)\n",
    "    axs[0].set_ylabel(r'Potential density ($\\sigma_2$) [kg m$^{-3}$ - 1000]',fontsize=15)\n",
    "\n",
    "plt.show()"
   ]
  },
  {
   "cell_type": "code",
   "execution_count": 22,
   "metadata": {},
   "outputs": [
    {
     "name": "stdout",
     "output_type": "stream",
     "text": [
      "\n",
      "ESM4_antwater_101\n",
      "/scratch/gpfs/jt7058/GFDL/fafmip/raw/ESM4_piControl_D_fafantwater_101/ocean_annual_rho2\n",
      "0101-07-02 to 0175-07-02\n",
      "0151-07-02 to 0170-07-02\n",
      "Saving to file: ESM4_antwater_101_so_0151to0170_at30S_mvt_rho2_basins.csv\n",
      "\n",
      "ESM4_antwater_151\n",
      "/scratch/gpfs/jt7058/GFDL/fafmip/raw/ESM4_piControl_D_fafantwater_151/ocean_annual_rho2\n",
      "0001-07-02 to 0100-07-02\n",
      "0051-07-02 to 0070-07-02\n",
      "Saving to file: ESM4_antwater_151_so_0051to0070_at30S_mvt_rho2_basins.csv\n",
      "\n",
      "ESM4_antwater_201\n",
      "/scratch/gpfs/jt7058/GFDL/fafmip/raw/ESM4_piControl_D_fafantwater_201/ocean_annual_rho2\n",
      "0001-07-02 to 0100-07-02\n",
      "0051-07-02 to 0070-07-02\n",
      "Saving to file: ESM4_antwater_201_so_0051to0070_at30S_mvt_rho2_basins.csv\n",
      "\n",
      "ESM4_stress_101\n",
      "/scratch/gpfs/jt7058/GFDL/fafmip/raw/ESM4_piControl_D_fafstress_101/ocean_annual_rho2\n",
      "0101-07-02 to 0185-07-02\n",
      "0151-07-02 to 0170-07-02\n",
      "Saving to file: ESM4_stress_101_so_0151to0170_at30S_mvt_rho2_basins.csv\n",
      "\n",
      "ESM4_stress_151\n",
      "/scratch/gpfs/jt7058/GFDL/fafmip/raw/ESM4_piControl_D_fafstress_151/ocean_annual_rho2\n",
      "0001-07-02 to 0100-07-02\n",
      "0051-07-02 to 0070-07-02\n",
      "Saving to file: ESM4_stress_151_so_0051to0070_at30S_mvt_rho2_basins.csv\n",
      "\n",
      "ESM4_stress_201\n",
      "/scratch/gpfs/jt7058/GFDL/fafmip/raw/ESM4_piControl_D_fafstress_201/ocean_annual_rho2\n",
      "0001-07-02 to 0100-07-02\n",
      "0051-07-02 to 0070-07-02\n",
      "Saving to file: ESM4_stress_201_so_0051to0070_at30S_mvt_rho2_basins.csv\n",
      "\n",
      "ESM4_antwaterstress_101\n",
      "/scratch/gpfs/jt7058/GFDL/fafmip/raw/ESM4_piControl_D_fafantwaterstress_101/ocean_annual_rho2\n",
      "0101-07-02 to 0180-07-02\n",
      "0151-07-02 to 0170-07-02\n",
      "Saving to file: ESM4_antwaterstress_101_so_0151to0170_at30S_mvt_rho2_basins.csv\n",
      "\n",
      "ESM4_antwaterstress_151\n",
      "/scratch/gpfs/jt7058/GFDL/fafmip/raw/ESM4_piControl_D_fafantwaterstress_151/ocean_annual_rho2\n",
      "0001-07-02 to 0100-07-02\n",
      "0051-07-02 to 0070-07-02\n",
      "Saving to file: ESM4_antwaterstress_151_so_0051to0070_at30S_mvt_rho2_basins.csv\n",
      "\n",
      "ESM4_antwaterstress_201\n",
      "/scratch/gpfs/jt7058/GFDL/fafmip/raw/ESM4_piControl_D_fafantwaterstress_201/ocean_annual_rho2\n",
      "0001-07-02 to 0100-07-02\n",
      "0051-07-02 to 0070-07-02\n",
      "Saving to file: ESM4_antwaterstress_201_so_0051to0070_at30S_mvt_rho2_basins.csv\n"
     ]
    }
   ],
   "source": [
    "for mod in ['CM4', 'ESM4']:\n",
    "    \n",
    "    for exp in ['antwater', 'stress', 'antwaterstress']:\n",
    "        for mem in (['251', '290', '332'] if mod=='CM4' else ['101', '151', '201']):\n",
    "            if mod=='CM4':\n",
    "                subdir = 'CM4_piControl_C'\n",
    "            elif mod=='ESM4':\n",
    "                subdir = 'ESM4_piControl_D'\n",
    "                \n",
    "            fafdir = '%s_faf%s_%s'%(subdir,exp,str(mem) if mod=='CM4' else str(mem))\n",
    "            pp = 'ocean_annual_rho2'\n",
    "            full_path = os.path.join(rootdir,subdir,pp) if exp=='control' else os.path.join(rootdir,fafdir,pp)\n",
    "            head = '%s_%s'%(mod,exp) if exp=='control' else '%s_%s_%s'%(mod,exp,str(mem))\n",
    "            print('\\n'+head)\n",
    "            print(full_path)\n",
    "            ds = xr.open_mfdataset(full_path+'/'+pp+'.*.*.nc',use_cftime=True, \n",
    "                       drop_variables=['average_DT','average_T1','average_T2'])\n",
    "            \n",
    "            pp = 'ocean_monthly'\n",
    "            if subdir[:3] == 'CM4':\n",
    "                grid = xr.open_dataset(rootdir+'CM4_piControl_C/'+pp+'/'+pp+'.static.nc')\n",
    "            elif subdir[:3] == 'ESM':\n",
    "                grid = xr.open_dataset(rootdir+'ESM4_piControl_D/'+pp+'/'+pp+'.static.nc')\n",
    "            else:\n",
    "                print('grid is not available for '+subdir)\n",
    "                \n",
    "            print(str(ds.time.values[0])[:10],'to',str(ds.time.values[-1])[:10])\n",
    "            \n",
    "            if mod=='CM4':\n",
    "                ds = ds.sel(time=slice('0051','0070'))\n",
    "            # Years 151-170 for the ESM4 pertubation experiment #101\n",
    "            elif(mod=='ESM4') & (mem=='101'):\n",
    "                ds = ds.sel(time=slice('0151','0170'))\n",
    "            # Years 51 to 70 for the ESM4 pertubation experiment (other than 101)\n",
    "            else:\n",
    "                ds = ds.sel(time=slice('0051','0070'))\n",
    "            print(str(ds.time.values[0])[:10],'to',str(ds.time.values[-1])[:10])\n",
    "            \n",
    "            basincodes = generate_basin_codes(grid, lon='geolon_v', lat='geolat_v', mask='wet_v')\n",
    "            df = pd.DataFrame()\n",
    "            for idx in [2,3,5]:\n",
    "                vmo = ds.vmo.where(basincodes==idx).where(grid['wet_v']==1)\\\n",
    "                        .where(grid.geolat_v<north,drop=True).isel(yq=-1)\n",
    "                vtrnsp = vmo.sum(dim='xh') / rho0 / 1.0e6\n",
    "                vtrnsp_mean = vtrnsp.mean('time')\n",
    "                df = pd.concat([df,vtrnsp_mean.reset_coords(drop=True).to_dataframe(str(idx))],sort=True,axis=1)\n",
    "            df.columns = ['Atlantic', 'Pacific','Indian']\n",
    "            \n",
    "            fname = head+'_so_%sto%s_at%sS_mvt_rho2_basins.csv'\\\n",
    "                        %(str(ds.time.dt.year[0].values).rjust(4, '0'),\n",
    "                          str(ds.time.dt.year[-1].values).rjust(4, '0'),\n",
    "                          str(abs(north)).replace('.',''))\n",
    "            print('Saving to file:', fname)\n",
    "            # Save with index column (time)\n",
    "            df.to_csv(outdir+fname, index=True)"
   ]
  },
  {
   "cell_type": "code",
   "execution_count": null,
   "metadata": {},
   "outputs": [],
   "source": []
  }
 ],
 "metadata": {
  "kernelspec": {
   "display_name": "Python 3",
   "language": "python",
   "name": "python3"
  },
  "language_info": {
   "codemirror_mode": {
    "name": "ipython",
    "version": 3
   },
   "file_extension": ".py",
   "mimetype": "text/x-python",
   "name": "python",
   "nbconvert_exporter": "python",
   "pygments_lexer": "ipython3",
   "version": "3.7.9"
  }
 },
 "nbformat": 4,
 "nbformat_minor": 4
}
