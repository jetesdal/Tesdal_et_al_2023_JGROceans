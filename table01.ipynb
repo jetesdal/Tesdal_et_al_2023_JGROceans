{
 "cells": [
  {
   "cell_type": "code",
   "execution_count": 2,
   "metadata": {},
   "outputs": [],
   "source": [
    "import numpy as np\n",
    "import xarray as xr\n",
    "import pandas as pd\n",
    "import glob\n",
    "from datetime import timedelta\n",
    "import matplotlib.pyplot as plt\n",
    "%matplotlib inline"
   ]
  },
  {
   "cell_type": "code",
   "execution_count": 3,
   "metadata": {},
   "outputs": [],
   "source": [
    "datadir='data/'\n",
    "\n",
    "north_str = '300S'\n",
    "dset1 = '_southof%s_swmt_'%north_str\n",
    "lstr = 'sigma2'\n",
    "#dl = '005'\n",
    "dl = 'lores'\n",
    "\n",
    "dset2 = '_moc_rho2_online_lores'\n",
    "dset3 = '_dVdt_rho2_online_lores'\n",
    "\n",
    "exp = 'control'"
   ]
  },
  {
   "cell_type": "code",
   "execution_count": 4,
   "metadata": {},
   "outputs": [
    {
     "name": "stdout",
     "output_type": "stream",
     "text": [
      "Loading data/CM4_control_so_0251to0395_southof300S_swmt_sigma2_lores.nc\n",
      "Loading data/CM4_control_global_0251to0405_moc_rho2_online_lores.nc\n",
      "Loading data/CM4_control_so_0251to0405_dVdt_rho2_online_lores.nc\n",
      "Loading data/ESM4_control_so_0101to0270_southof300S_swmt_sigma2_lores.nc\n",
      "Loading data/ESM4_control_global_0101to0270_moc_rho2_online_lores.nc\n",
      "Loading data/ESM4_control_so_0101to0300_dVdt_rho2_online_lores.nc\n"
     ]
    }
   ],
   "source": [
    "ddict = {mod:{} for mod in ['CM4','ESM4']}\n",
    "for mod in ddict:\n",
    "    for var in ['swmt','psi','Storage change']:\n",
    "        if var == 'swmt':\n",
    "            files = glob.glob(datadir+'%s_%s'%(mod,exp)+'_so_*'+dset1+'%s_%s.nc'%(lstr,dl))\n",
    "        elif var == 'psi':\n",
    "            files = glob.glob(datadir+'%s_%s_global_*'%(mod,exp)+dset2+'.nc')\n",
    "        elif var == 'Storage change':\n",
    "            files = glob.glob(datadir+'%s_%s_so_*'%(mod,exp)+dset3+'.nc')\n",
    "            \n",
    "        if len(files)>1:\n",
    "            print('WARNING: More than one file for '+var+' in '+mod+'-'+exp+'. Please specify.')\n",
    "        elif len(files)==0:\n",
    "            print('ERROR: No file available for '+var+' in '+mod+'-'+exp)\n",
    "            ddict[mod]['dVdt' if var =='Storage change' else var] = []\n",
    "            continue\n",
    "            \n",
    "        print('Loading '+files[0])\n",
    "        ddict[mod]['dVdt' if var =='Storage change' else var] = \\\n",
    "                        xr.open_dataset(files[0])[var].sel(time=slice(None,'0395'))"
   ]
  },
  {
   "cell_type": "code",
   "execution_count": 5,
   "metadata": {},
   "outputs": [],
   "source": [
    "tsdict = {mod:{} for mod in list(ddict.keys())}\n",
    "\n",
    "for mod in tsdict:\n",
    "    smoc = ddict[mod]['psi'].sel(rho2_i=slice(1020,None),yq=slice(None,0))                \n",
    "    smoc['sigma2'] = smoc.rho2_i-1000\n",
    "    smoc = smoc.swap_dims({'rho2_i':'sigma2'})\n",
    "    psi = (-smoc).sel(yq=[-30], method='nearest').squeeze()\n",
    "    \n",
    "    dVdt = ddict[mod]['dVdt'].sel(rho2_i=slice(1020,None)) #1033,1038\n",
    "    dVdt['sigma2'] = dVdt.rho2_i-1000\n",
    "    dVdt = dVdt.swap_dims({'rho2_i':'sigma2'})\n",
    "    \n",
    "    G = ddict[mod]['swmt']*1e-6\n",
    "    G_interp = G.interp(sigma2=psi.sigma2,kwargs={'fill_value':0}).groupby('time.year').mean('time')\n",
    "    G_interp = G_interp.rename({'year':'time'}).assign_coords({'time': psi['time']})\n",
    "    D = dVdt + psi - G_interp\n",
    "    \n",
    "    tsdict[mod]['psi'] = psi\n",
    "    tsdict[mod]['swmt'] = G_interp\n",
    "    tsdict[mod]['iwmt'] = D\n",
    "    tsdict[mod]['dVdt'] = dVdt"
   ]
  },
  {
   "cell_type": "code",
   "execution_count": 6,
   "metadata": {},
   "outputs": [],
   "source": [
    "ddict_wm = {mod:{} for mod in ['CM4','ESM4']}\n",
    "ddict_wm['CM4']['water_mass'] = ['TW','SAMW','AAIW','CDW','AABW']\n",
    "ddict_wm['CM4']['sig2'] = [35.60, 36.10, 36.60, 37.06]\n",
    "ddict_wm['ESM4']['water_mass'] = ['TW','SAMW','AAIW','CDW','AABW']\n",
    "ddict_wm['ESM4']['sig2'] = [35.20, 35.60, 36.50, 37.03]"
   ]
  },
  {
   "cell_type": "code",
   "execution_count": 7,
   "metadata": {},
   "outputs": [],
   "source": [
    "subdir = 'ESM4_piControl_D'\n",
    "rho2_i = xr.open_dataset(datadir+subdir+'_volcello_rho2_lores.nc').rho2_i.sel(rho2_i=slice(1020,None)).values\n",
    "rho2_l = xr.open_dataset(datadir+subdir+'_volcello_rho2_lores.nc').rho2_l.sel(rho2_l=slice(1020,None)).values"
   ]
  },
  {
   "cell_type": "code",
   "execution_count": 8,
   "metadata": {},
   "outputs": [],
   "source": [
    "tctr_cm4 = ['0281', '0380']\n",
    "tctr_esm4 = ['0121', '0220']"
   ]
  },
  {
   "cell_type": "code",
   "execution_count": 9,
   "metadata": {
    "scrolled": false
   },
   "outputs": [
    {
     "name": "stdout",
     "output_type": "stream",
     "text": [
      "\n",
      "CM4\n",
      "psi\n",
      "Sum above 35.6\n",
      "Sum between 35.6 and 36.1\n",
      "Sum between 36.1 and 36.6\n",
      "Sum between 36.6 and 37.06\n",
      "Sum below 37.06\n",
      "swmt\n",
      "Sum above 35.6\n",
      "Sum between 35.6 and 36.1\n",
      "Sum between 36.1 and 36.6\n",
      "Sum between 36.6 and 37.06\n",
      "Sum below 37.06\n",
      "iwmt\n",
      "Sum above 35.6\n",
      "Sum between 35.6 and 36.1\n",
      "Sum between 36.1 and 36.6\n",
      "Sum between 36.6 and 37.06\n",
      "Sum below 37.06\n",
      "dVdt\n",
      "Sum above 35.6\n",
      "Sum between 35.6 and 36.1\n",
      "Sum between 36.1 and 36.6\n",
      "Sum between 36.6 and 37.06\n",
      "Sum below 37.06\n",
      "\n",
      "ESM4\n",
      "psi\n",
      "Sum above 35.2\n",
      "Sum between 35.2 and 35.6\n",
      "Sum between 35.6 and 36.5\n",
      "Sum between 36.5 and 37.03\n",
      "Sum below 37.03\n",
      "swmt\n",
      "Sum above 35.2\n",
      "Sum between 35.2 and 35.6\n",
      "Sum between 35.6 and 36.5\n",
      "Sum between 36.5 and 37.03\n",
      "Sum below 37.03\n",
      "iwmt\n",
      "Sum above 35.2\n",
      "Sum between 35.2 and 35.6\n",
      "Sum between 35.6 and 36.5\n",
      "Sum between 36.5 and 37.03\n",
      "Sum below 37.03\n",
      "dVdt\n",
      "Sum above 35.2\n",
      "Sum between 35.2 and 35.6\n",
      "Sum between 35.6 and 36.5\n",
      "Sum between 36.5 and 37.03\n",
      "Sum below 37.03\n"
     ]
    }
   ],
   "source": [
    "for i, mod in enumerate(tsdict):\n",
    "    print('\\n'+mod)\n",
    "    ti = tctr_cm4[0] if mod=='CM4' else tctr_esm4[0]\n",
    "    tf = tctr_cm4[1] if mod=='CM4' else tctr_esm4[1]\n",
    "    for var in tsdict[mod]:\n",
    "        print(var)\n",
    "        y = tsdict[mod][var].sel(time=slice(ti,tf))\n",
    "        \n",
    "        dy = -1.*y.diff('sigma2',label='lower')\n",
    "        dy['sigma2'] = rho2_l-1000\n",
    "        \n",
    "        das = []\n",
    "        for widx, wm in enumerate(ddict_wm[mod]['water_mass']):\n",
    "            if widx ==0:\n",
    "                print('Sum above',ddict_wm[mod]['sig2'][widx])\n",
    "                das.append(dy[:,dy.sigma2<ddict_wm[mod]['sig2'][widx]].sum(dim='sigma2'))\n",
    "            elif widx < (len(ddict_wm[mod]['water_mass'])-1):\n",
    "                print('Sum between',ddict_wm[mod]['sig2'][widx-1],'and',ddict_wm[mod]['sig2'][widx])\n",
    "                das.append(dy[:,(dy.sigma2>=ddict_wm[mod]['sig2'][widx-1])\\\n",
    "                              &(dy.sigma2<ddict_wm[mod]['sig2'][widx])].sum(dim='sigma2'))\n",
    "            else:\n",
    "                print('Sum below',ddict_wm[mod]['sig2'][widx-1])\n",
    "                das.append(dy[:,dy.sigma2>=ddict_wm[mod]['sig2'][widx-1]].sum(dim='sigma2'))\n",
    "                \n",
    "        da = xr.concat(das,pd.Index(ddict_wm[mod]['water_mass'], name='water_mass'))       \n",
    "        ddict_wm[mod][var] = da.reset_coords(drop=True)"
   ]
  },
  {
   "cell_type": "markdown",
   "metadata": {},
   "source": [
    "### Table 1"
   ]
  },
  {
   "cell_type": "code",
   "execution_count": 15,
   "metadata": {},
   "outputs": [
    {
     "name": "stdout",
     "output_type": "stream",
     "text": [
      "7.5\n",
      "1.9\n"
     ]
    }
   ],
   "source": [
    "mod = 'CM4'\n",
    "wm = 'AABW'\n",
    "\n",
    "print(np.round(ddict_wm[mod]['psi'].sel(water_mass=wm).mean('time').values,1))\n",
    "print(np.round(ddict_wm[mod]['psi'].sel(water_mass=wm).std('time').values,1))"
   ]
  },
  {
   "cell_type": "markdown",
   "metadata": {},
   "source": [
    "**Table 1**: Circumpolar mean density ranges in $\\sigma_2$, volume transports at 30\\oS, surface and interior formation south of at 30\\oS for key Southern Ocean water masses in CM4 and ESM4: thermocline water (TW), Subantarctic Mode Water (SAMW), Antarctic Intermediate Water (AAIW), Circumpolar Deep Water (CDW) and Antarctic Bottom Water (AABW). Note that in the circumpolar mean, North Atlantic Deep Water (NADW) is considered part of the CDW. Note that the uncertainties in transports and formation are presented as $\\pm$ 1 standard deviations derived from the annual means over the given 100-year time periods."
   ]
  },
  {
   "cell_type": "markdown",
   "metadata": {},
   "source": [
    "### Transport by basin"
   ]
  },
  {
   "cell_type": "code",
   "execution_count": 18,
   "metadata": {},
   "outputs": [],
   "source": [
    "ddict_df = {var:{} for var in ['CM4','ESM4']}\n",
    "ddict_df['CM4'] = pd.read_csv(datadir+'CM4_control_so_0281to0380_at30S_mvt_rho2_basins.csv',index_col='rho2_l')\n",
    "ddict_df['ESM4'] = pd.read_csv(datadir+'ESM4_control_so_0121to0220_at30S_mvt_rho2_basins.csv',index_col='rho2_l')"
   ]
  },
  {
   "cell_type": "code",
   "execution_count": 19,
   "metadata": {},
   "outputs": [],
   "source": [
    "ddict_basin = {b:{} for b in ['Atlantic','Pacific','Indian']}\n",
    "ddict_basin['Atlantic']['water_mass'] = ['TW','SAMW','AAIW','NADW','AABW']\n",
    "ddict_basin['Pacific']['water_mass'] = ['TW','SAMW','AAIW','CDW','AABW']\n",
    "ddict_basin['Indian']['water_mass'] = ['TW','SAMW','AAIW','CDW','AABW']\n",
    "\n",
    "ddict = {var:{} for var in ['CM4','ESM4']}\n",
    "for mod in ddict:\n",
    "    ddict[mod] = {b:{} for b in list(ddict_basin.keys())}\n",
    "    for name in ddict[mod]:\n",
    "        ddict[mod][name]['water_mass'] = ddict_basin[name]['water_mass']\n",
    "        \n",
    "ddict['CM4']['Atlantic']['sig2'] = [35.3,35.9,36.55,37.08]\n",
    "ddict['CM4']['Pacific']['sig2'] = [35.8, 36.2, 36.6, 37.05]\n",
    "ddict['CM4']['Indian']['sig2'] = [35.7, 36.2, 36.6, 37.065]\n",
    "ddict['ESM4']['Atlantic']['sig2'] = [35.2,35.4,36.55,37.08]\n",
    "ddict['ESM4']['Pacific']['sig2'] = [35.3, 35.65, 36.45, 37.01]\n",
    "ddict['ESM4']['Indian']['sig2'] = [35.2, 35.7, 36.6, 37.01]\n",
    "\n",
    "for mod in ddict:\n",
    "    df = ddict_df[mod]\n",
    "    for idx, (name, values) in enumerate(df.iteritems()):    \n",
    "        vtrsp = []\n",
    "        for widx, wm in enumerate(ddict[mod][name]['water_mass']):\n",
    "            if widx ==0:\n",
    "                vtrsp.append(df[df.index<ddict[mod][name]['sig2'][widx]+1000][name].sum())\n",
    "            elif widx < (len(ddict[mod][name]['water_mass'])-1):\n",
    "                vtrsp.append(df[(df.index>=ddict[mod][name]['sig2'][widx-1]+1000)\\\n",
    "                                &(df.index<ddict[mod][name]['sig2'][widx]+1000)][name].sum())\n",
    "            else:\n",
    "                vtrsp.append(df[df.index>=ddict[mod][name]['sig2'][widx-1]+1000][name].sum())      \n",
    "        ddict[mod][name]['vol_trsp'] = vtrsp"
   ]
  },
  {
   "cell_type": "code",
   "execution_count": 20,
   "metadata": {},
   "outputs": [
    {
     "data": {
      "image/png": "[encoded data removed]",
      "text/plain": [
       "<Figure size 1008x432 with 3 Axes>"
      ]
     },
     "metadata": {
      "needs_background": "light"
     },
     "output_type": "display_data"
    }
   ],
   "source": [
    "fig, axs = plt.subplots(1, 3, figsize=(14,6))\n",
    "fig.subplots_adjust(left=0.1, right=0.9, bottom=0.1, top=0.9, wspace=0.2)\n",
    "\n",
    "cstr = ['tab:cyan','tab:red']\n",
    "\n",
    "for idx, name in enumerate(ddict_basin):\n",
    "    \n",
    "    axs[idx].axvline(x=0, c = 'k', ls='-', lw=1)\n",
    "    \n",
    "    y = np.arange(len(ddict_basin[name]['water_mass'])) + 0.5\n",
    "    yloc = y\n",
    "    \n",
    "    p = []\n",
    "    for m, mod in enumerate(ddict):\n",
    "        x = ddict[mod][name]['vol_trsp']\n",
    "        p += axs[idx].barh(yloc-0.15 if mod=='CM4' else yloc+0.15, x, height=0.3 ,align='center',\n",
    "                           color=cstr[m], alpha=0.7)\n",
    "        \n",
    "    for i, bar in enumerate(p):\n",
    "        val = bar.get_width()\n",
    "        axs[idx].text(bar.get_width(), bar.get_y() + bar.get_height() / 2.0 , \n",
    "                      f'{val:.1f}', ha='right' if val<0 else 'left', va='center',fontsize=12,\n",
    "                      color=bar.get_facecolor())\n",
    "        \n",
    "    # Add subtitles and adjust xlimit\n",
    "    if name=='Atlantic':\n",
    "        axs[idx].set_title('Atlantic',fontsize=16)\n",
    "        axs[idx].set_xlim([-26,12])\n",
    "    elif name=='Pacific':\n",
    "        axs[idx].set_title('Pacific',fontsize=16)\n",
    "        axs[idx].set_xlim([-5,13])\n",
    "    elif name=='Indian':\n",
    "        axs[idx].set_title('Indian',fontsize=16)\n",
    "        axs[idx].set_xlim([-20,5])\n",
    "    \n",
    "    # Add water mass names\n",
    "    xlimit = axs[idx].get_xlim()\n",
    "    for i, yline in enumerate(y[1:]-0.5):\n",
    "        axs[idx].text(xlimit[0]+abs(xlimit[1]+xlimit[0])/100, yline+0.02, ddict_basin[name]['water_mass'][i+1], \n",
    "                      fontsize=14, fontweight='bold',ha='left', va='top')\n",
    "        \n",
    "    axs[idx].grid(True, 'major', 'y', ls='-', lw=1, c='k', alpha=.3)\n",
    "    axs[idx].tick_params(axis='both', which='both', labelsize=14,\n",
    "                         bottom=True, top=False, labelbottom=True,\n",
    "                         left=False, right=False, labelleft=False)\n",
    "\n",
    "    axs[idx].set_ylim((0,5))\n",
    "    axs[idx].set_yticks(y[1:]-0.5)\n",
    "    #axs[idx].set_yticklabels([f'{val:.1f}' for val in ddict[mod][name]['sig2']])\n",
    "    axs[idx].tick_params(axis='y', which='major', pad=0)\n",
    "    \n",
    "    for m, mod in enumerate(ddict):\n",
    "        for i, yline in enumerate(y[1:]-0.5):\n",
    "            if mod=='CM4':\n",
    "                axs[idx].text(xlimit[0]-0.15,yline-0.09,np.round(ddict[mod][name]['sig2'][i],2),\n",
    "                              color='tab:cyan',fontsize=14,ha='right', va='center')\n",
    "            elif mod=='ESM4':\n",
    "                axs[idx].text(xlimit[0]-0.15,yline+0.09,np.round(ddict[mod][name]['sig2'][i],2),\n",
    "                              color='tab:red',fontsize=14,ha='right', va='center')\n",
    "    \n",
    "    axs[idx].invert_yaxis()\n",
    "    axs[idx].set_xlabel('Volume transport (Sv)',fontsize=15)\n",
    "    axs[0].set_ylabel(r'Potential density ($\\sigma_2$) [kg m$^{-3}$ - 1000]',fontsize=15,labelpad=40)\n",
    "plt.show()"
   ]
  },
  {
   "cell_type": "code",
   "execution_count": null,
   "metadata": {},
   "outputs": [],
   "source": []
  }
 ],
 "metadata": {
  "kernelspec": {
   "display_name": "Python 3",
   "language": "python",
   "name": "python3"
  },
  "language_info": {
   "codemirror_mode": {
    "name": "ipython",
    "version": 3
   },
   "file_extension": ".py",
   "mimetype": "text/x-python",
   "name": "python",
   "nbconvert_exporter": "python",
   "pygments_lexer": "ipython3",
   "version": "3.7.9"
  }
 },
 "nbformat": 4,
 "nbformat_minor": 4
}
